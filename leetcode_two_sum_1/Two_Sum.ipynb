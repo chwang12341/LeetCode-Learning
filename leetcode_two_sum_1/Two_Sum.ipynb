{
 "cells": [
  {
   "cell_type": "markdown",
   "metadata": {},
   "source": [
    "## 暴力解法"
   ]
  },
  {
   "cell_type": "code",
   "execution_count": 13,
   "metadata": {},
   "outputs": [
    {
     "data": {
      "text/plain": [
       "(3, 5)"
      ]
     },
     "execution_count": 13,
     "metadata": {},
     "output_type": "execute_result"
    }
   ],
   "source": [
    "def two_sum(nums, target):\n",
    "    for i in range(len(nums)):\n",
    "        for j in range(i+1, len(nums)):\n",
    "            if nums[i] + nums[j] == target:\n",
    "                return i, j\n",
    "\n",
    "\n",
    "nums = [1, 2, 3, 4, 5, 6]\n",
    "target = 10\n",
    "two_sum(nums, target)"
   ]
  },
  {
   "cell_type": "markdown",
   "metadata": {},
   "source": [
    "## Hash Table 解法 - 雜湊法"
   ]
  },
  {
   "cell_type": "code",
   "execution_count": 53,
   "metadata": {},
   "outputs": [
    {
     "data": {
      "text/plain": [
       "[3, 5]"
      ]
     },
     "execution_count": 53,
     "metadata": {},
     "output_type": "execute_result"
    }
   ],
   "source": [
    "class Solution:\n",
    "    def two_sum(self, nums, target):\n",
    "        hash_table = {}\n",
    "        for i, num in enumerate(nums):\n",
    "            t = target - num\n",
    "            if t in hash_table:\n",
    "                return [hash_table[t], i]\n",
    "            ## 在hash table中增加數據(key: 值, value: 索引)\n",
    "            hash_table[num] = i\n",
    "        ## 當沒找到任何答案時回傳[-1, -1]\n",
    "        return [-1, -1]\n",
    "            \n",
    "#             print(hash_table)\n",
    "nums = [1, 2, 3, 4, 5, 6]\n",
    "target = 10\n",
    "Solution().two_sum(nums, target)    "
   ]
  },
  {
   "cell_type": "code",
   "execution_count": 64,
   "metadata": {},
   "outputs": [
    {
     "data": {
      "text/plain": [
       "(3, 5)"
      ]
     },
     "execution_count": 64,
     "metadata": {},
     "output_type": "execute_result"
    }
   ],
   "source": [
    "class Solution:\n",
    "    def two_sum(self, nums, target):\n",
    "        hash_map = {}\n",
    "        for i in range(len(nums)):\n",
    "            if target - nums[i] in hash_map:\n",
    "                return hash_map.get(target - nums[i]), i\n",
    "            hash_map[nums[i]] = i\n",
    "nums = [1, 2, 3, 4, 5, 6]\n",
    "target = 10\n",
    "Solution().two_sum(nums, target)    "
   ]
  }
 ],
 "metadata": {
  "kernelspec": {
   "display_name": "Python 3",
   "language": "python",
   "name": "python3"
  },
  "language_info": {
   "codemirror_mode": {
    "name": "ipython",
    "version": 3
   },
   "file_extension": ".py",
   "mimetype": "text/x-python",
   "name": "python",
   "nbconvert_exporter": "python",
   "pygments_lexer": "ipython3",
   "version": "3.7.6"
  }
 },
 "nbformat": 4,
 "nbformat_minor": 4
}
