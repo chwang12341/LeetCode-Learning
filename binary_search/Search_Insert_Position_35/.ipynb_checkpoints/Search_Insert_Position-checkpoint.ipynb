{
 "cells": [
  {
   "cell_type": "code",
   "execution_count": 61,
   "metadata": {},
   "outputs": [
    {
     "data": {
      "text/plain": [
       "3"
      ]
     },
     "execution_count": 61,
     "metadata": {},
     "output_type": "execute_result"
    }
   ],
   "source": [
    "def linear_search(nums, target):\n",
    "    for i in range(len(nums)):\n",
    "        ## 當元素與目標依樣時\n",
    "        if nums[i] == target:\n",
    "            return i\n",
    "        ## 當目標值大小介於此元素跟下一個元素中間時，而此元素不是最後一個時\n",
    "        elif nums[i] < target:\n",
    "            if nums[i+1] > target:\n",
    "                return i + 1\n",
    "        \n",
    "        \n",
    "        ## 當目標值大小介於此元素跟下一個元素中間時，而此元素不是最後一個時\n",
    "        if i < len(nums)-2:       \n",
    "            if nums[i] < target:\n",
    "                if nums[i+1] > target :\n",
    "                    return i + 1\n",
    "        \n",
    "        ## 當走到最後\n",
    "        ## 當目標值比最後一個元素大時   \n",
    "        elif i == len(nums)-1:\n",
    "            return i+1\n",
    "            \n",
    "        ## 當目標值比最後一個元素小時\n",
    "        else:\n",
    "            return i\n",
    "    \n",
    "    \n",
    "    \n",
    "nums = [1, 4, 7, 8, 9]\n",
    "target = 10\n",
    "linear_search(nums, target)"
   ]
  },
  {
   "cell_type": "code",
   "execution_count": 76,
   "metadata": {},
   "outputs": [
    {
     "data": {
      "text/plain": [
       "2"
      ]
     },
     "execution_count": 76,
     "metadata": {},
     "output_type": "execute_result"
    }
   ],
   "source": [
    "def linear_search(nums, target):\n",
    "    for i in range(len(nums)):\n",
    "\n",
    "        ## 當i還沒到最後一個元素時\n",
    "        if i < len(nums) - 1:\n",
    "            ## 當元素與目標依樣時\n",
    "            if nums[i] == target:\n",
    "                return i\n",
    "            ## 當目標值大小介於此元素跟下一個元素中間時\n",
    "            elif nums[i] < target:\n",
    "                if nums[i+1] > target:\n",
    "                    return i+1\n",
    "           #  當i比第一個元素小時\n",
    "            elif nums[i] > target:\n",
    "                return i\n",
    "            \n",
    "        ## 當i走到最後一個元素時\n",
    "        if i == (len(nums) - 1):\n",
    "            if nums[i] > target:\n",
    "                return i\n",
    "            else:\n",
    "                return i+1\n",
    "        \n",
    "nums = [1, 4, 7, 8, 9]\n",
    "target = 6\n",
    "linear_search(nums, target)        \n",
    "        "
   ]
  }
 ],
 "metadata": {
  "kernelspec": {
   "display_name": "Python 3",
   "language": "python",
   "name": "python3"
  },
  "language_info": {
   "codemirror_mode": {
    "name": "ipython",
    "version": 3
   },
   "file_extension": ".py",
   "mimetype": "text/x-python",
   "name": "python",
   "nbconvert_exporter": "python",
   "pygments_lexer": "ipython3",
   "version": "3.7.6"
  }
 },
 "nbformat": 4,
 "nbformat_minor": 4
}
