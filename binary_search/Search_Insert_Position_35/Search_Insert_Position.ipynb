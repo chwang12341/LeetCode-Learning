{
 "cells": [
  {
   "cell_type": "markdown",
   "metadata": {},
   "source": [
    "## Linear Search"
   ]
  },
  {
   "cell_type": "code",
   "execution_count": 84,
   "metadata": {},
   "outputs": [
    {
     "data": {
      "text/plain": [
       "0"
      ]
     },
     "execution_count": 84,
     "metadata": {},
     "output_type": "execute_result"
    }
   ],
   "source": [
    "def linear_search(nums, target):\n",
    "    for i in range(len(nums)):\n",
    "\n",
    "        ## 當i還沒到最後一個元素時\n",
    "        if i < len(nums) - 1:\n",
    "            ## 當元素與目標依樣時\n",
    "            if nums[i] == target:\n",
    "                return i\n",
    "            ## 當目標值大小介於此元素跟下一個元素中間時\n",
    "            elif nums[i] < target:\n",
    "                if nums[i+1] > target:\n",
    "                    return i+1\n",
    "           #  當i比第一個元素小時\n",
    "            elif nums[i] > target:\n",
    "                return i\n",
    "            \n",
    "        ## 當i走到最後一個元素時\n",
    "        if i == (len(nums) - 1):\n",
    "            if nums[i] >= target:\n",
    "                return i\n",
    "            else:\n",
    "                return i+1\n",
    "        \n",
    "nums = [1]\n",
    "target = 1\n",
    "linear_search(nums, target)        \n",
    "        "
   ]
  },
  {
   "cell_type": "markdown",
   "metadata": {},
   "source": [
    "## Binary Search"
   ]
  },
  {
   "cell_type": "code",
   "execution_count": 9,
   "metadata": {},
   "outputs": [
    {
     "data": {
      "text/plain": [
       "5"
      ]
     },
     "execution_count": 9,
     "metadata": {},
     "output_type": "execute_result"
    }
   ],
   "source": [
    "def binary_search(nums, target):\n",
    "    ## 建立上下界的索引\n",
    "    low, up = 0, len(nums) - 1\n",
    "    \n",
    "    ## 當low沒有與up交叉的時候\n",
    "    while low <= up:\n",
    "        middle = (low + up) // 2\n",
    "        if nums[middle] == target:\n",
    "            return middle\n",
    "        ## 當target小於中位數，調整up值，變成middle - 1\n",
    "        elif nums[middle] > target:\n",
    "            up = middle -1\n",
    "        ## 當target大於中位數，調整low值，變成middle + 1\n",
    "        elif nums[middle] < target:\n",
    "            low = middle + 1\n",
    "    ## 調整直到low與up交叉了\n",
    "    return low\n",
    "            \n",
    "nums = [1, 4, 7, 8, 9]\n",
    "target = 10\n",
    "binary_search(nums, target)               "
   ]
  }
 ],
 "metadata": {
  "kernelspec": {
   "display_name": "Python 3",
   "language": "python",
   "name": "python3"
  },
  "language_info": {
   "codemirror_mode": {
    "name": "ipython",
    "version": 3
   },
   "file_extension": ".py",
   "mimetype": "text/x-python",
   "name": "python",
   "nbconvert_exporter": "python",
   "pygments_lexer": "ipython3",
   "version": "3.7.6"
  }
 },
 "nbformat": 4,
 "nbformat_minor": 4
}
