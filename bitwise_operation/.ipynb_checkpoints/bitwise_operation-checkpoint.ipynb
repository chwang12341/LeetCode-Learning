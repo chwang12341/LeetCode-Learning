{
 "cells": [
  {
   "cell_type": "code",
   "execution_count": 3,
   "metadata": {},
   "outputs": [
    {
     "name": "stdout",
     "output_type": "stream",
     "text": [
      "a:  0b1000010\n",
      "b:  0b111010\n"
     ]
    }
   ],
   "source": [
    "## 構建兩個整數\n",
    "a = 66\n",
    "b = 58\n",
    "\n",
    "## 轉換成二進位數\n",
    "a_bit = bin(a)\n",
    "b_bit = bin(b)\n",
    "print('a: ', a_bit)\n",
    "print('b: ', b_bit)"
   ]
  }
 ],
 "metadata": {
  "kernelspec": {
   "display_name": "Python 3",
   "language": "python",
   "name": "python3"
  },
  "language_info": {
   "codemirror_mode": {
    "name": "ipython",
    "version": 3
   },
   "file_extension": ".py",
   "mimetype": "text/x-python",
   "name": "python",
   "nbconvert_exporter": "python",
   "pygments_lexer": "ipython3",
   "version": "3.7.6"
  }
 },
 "nbformat": 4,
 "nbformat_minor": 4
}
