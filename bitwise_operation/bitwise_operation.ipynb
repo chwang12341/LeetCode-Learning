{
 "cells": [
  {
   "cell_type": "code",
   "execution_count": 17,
   "metadata": {},
   "outputs": [
    {
     "name": "stdout",
     "output_type": "stream",
     "text": [
      "a:  0b1000\n",
      "b:  0b10\n"
     ]
    }
   ],
   "source": [
    "## 構建兩個整數\n",
    "a = 8\n",
    "b = 2\n",
    "\n",
    "## 轉換成二進位數\n",
    "A = bin(a)\n",
    "B = bin(b)\n",
    "print('a: ', A)\n",
    "print('b: ', B)"
   ]
  },
  {
   "cell_type": "code",
   "execution_count": 18,
   "metadata": {},
   "outputs": [
    {
     "name": "stdout",
     "output_type": "stream",
     "text": [
      "0\n",
      "0b0\n"
     ]
    }
   ],
   "source": [
    "## AND\n",
    "c = a&b\n",
    "print(c)\n",
    "print(bin(c))"
   ]
  },
  {
   "cell_type": "code",
   "execution_count": 19,
   "metadata": {},
   "outputs": [
    {
     "name": "stdout",
     "output_type": "stream",
     "text": [
      "10\n",
      "0b1010\n"
     ]
    }
   ],
   "source": [
    "## OR\n",
    "d = a|b\n",
    "print(d)\n",
    "print(bin(d))"
   ]
  },
  {
   "cell_type": "code",
   "execution_count": 20,
   "metadata": {},
   "outputs": [
    {
     "name": "stdout",
     "output_type": "stream",
     "text": [
      "10\n",
      "0b1010\n"
     ]
    }
   ],
   "source": [
    "## XOR\n",
    "e = a^b\n",
    "print(e)\n",
    "print(bin(e))"
   ]
  },
  {
   "cell_type": "code",
   "execution_count": 21,
   "metadata": {},
   "outputs": [
    {
     "name": "stdout",
     "output_type": "stream",
     "text": [
      "-9\n",
      "-0b1001\n"
     ]
    }
   ],
   "source": [
    "## NOT\n",
    "print(~a)\n",
    "print(bin(~a))"
   ]
  },
  {
   "cell_type": "code",
   "execution_count": 26,
   "metadata": {},
   "outputs": [
    {
     "name": "stdout",
     "output_type": "stream",
     "text": [
      "32\n",
      "0b100000\n",
      "2\n",
      "0b10\n"
     ]
    }
   ],
   "source": [
    "## 位移\n",
    "## 左位移 8 << 2: 8 * (2**2)\n",
    "f = a << b\n",
    "print(f)\n",
    "print(bin(f))\n",
    "\n",
    "## 右位移 8 >> 2: 8 / (2**2)\n",
    "g = a >> b\n",
    "print(g)\n",
    "print(bin(g))"
   ]
  }
 ],
 "metadata": {
  "kernelspec": {
   "display_name": "Python 3",
   "language": "python",
   "name": "python3"
  },
  "language_info": {
   "codemirror_mode": {
    "name": "ipython",
    "version": 3
   },
   "file_extension": ".py",
   "mimetype": "text/x-python",
   "name": "python",
   "nbconvert_exporter": "python",
   "pygments_lexer": "ipython3",
   "version": "3.7.6"
  }
 },
 "nbformat": 4,
 "nbformat_minor": 4
}
