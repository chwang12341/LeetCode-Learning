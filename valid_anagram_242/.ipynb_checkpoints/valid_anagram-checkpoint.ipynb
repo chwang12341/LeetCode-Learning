{
 "cells": [
  {
   "cell_type": "code",
   "execution_count": 9,
   "metadata": {},
   "outputs": [
    {
     "data": {
      "text/plain": [
       "True"
      ]
     },
     "execution_count": 9,
     "metadata": {},
     "output_type": "execute_result"
    }
   ],
   "source": [
    "def isAnagram(s, t):\n",
    "    ## 判斷字串長度是否一樣\n",
    "    if len(s) != len(t):\n",
    "        return False\n",
    "    ## 返回經過排序過後的s和t是否一樣\n",
    "    return sorted(s) == sorted(t)\n",
    "isAnagram('elephants', 'aestnhple')    \n",
    "    "
   ]
  },
  {
   "cell_type": "code",
   "execution_count": 30,
   "metadata": {},
   "outputs": [
    {
     "name": "stdout",
     "output_type": "stream",
     "text": [
      "{'e': 2, 'l': 1, 'p': 1, 'h': 1, 'a': 0, 'n': 1, 't': 1, 's': 1}\n",
      "{'e': 1, 'l': 1, 'p': 1, 'h': 1, 'a': 0, 'n': 1, 't': 1, 's': 1}\n",
      "{'e': 1, 'l': 1, 'p': 1, 'h': 1, 'a': 0, 'n': 1, 't': 1, 's': 0}\n",
      "{'e': 1, 'l': 1, 'p': 1, 'h': 1, 'a': 0, 'n': 1, 't': 0, 's': 0}\n",
      "{'e': 1, 'l': 1, 'p': 1, 'h': 1, 'a': 0, 'n': 0, 't': 0, 's': 0}\n",
      "{'e': 1, 'l': 1, 'p': 1, 'h': 0, 'a': 0, 'n': 0, 't': 0, 's': 0}\n",
      "{'e': 1, 'l': 1, 'p': 0, 'h': 0, 'a': 0, 'n': 0, 't': 0, 's': 0}\n",
      "{'e': 1, 'l': 0, 'p': 0, 'h': 0, 'a': 0, 'n': 0, 't': 0, 's': 0}\n",
      "{'e': 0, 'l': 0, 'p': 0, 'h': 0, 'a': 0, 'n': 0, 't': 0, 's': 0}\n"
     ]
    }
   ],
   "source": [
    "def isAnagram(s, t):\n",
    "    ## 判斷字串長度是否一樣\n",
    "    if len(s) != len(t):\n",
    "        return False\n",
    "    ## 創建一個用來記錄次數的字典\n",
    "    c_d = {}\n",
    "    \n",
    "    ## 將s中所有的元素裝入字典並計算次數，由於c_d一開始裡面並不會有任何key值，如果直接+1會報錯，所以使用.get先創建一個\n",
    "    ## 然後賦值為0，接著再+1\n",
    "    for c in s:\n",
    "        c_d[c] = c_d.get(c, 0) + 1\n",
    "#     print(c_d)\n",
    "    \n",
    "    ## 將t中所有元素取出，並到c_t中找尋對應有的key，將其值減一\n",
    "    ## 如果元素根本沒有出現在c_t的key中，表示s中沒有此元素，直接回傳False\n",
    "    ## 如果c_t中已經把這個元素的計數扣到0了，然後t還有還要繼續扣，也直接回傳False\n",
    "    for c in t:\n",
    "        if (c not in c_d) or (c_d[c] == 0):\n",
    "            return False\n",
    "        else:\n",
    "            c_d[c] -=1\n",
    "#         print(c_d)\n",
    "            \n",
    "isAnagram('elephants', 'aestnhple')    \n",
    "    \n",
    "    \n",
    "    \n",
    "    "
   ]
  }
 ],
 "metadata": {
  "kernelspec": {
   "display_name": "Python 3",
   "language": "python",
   "name": "python3"
  },
  "language_info": {
   "codemirror_mode": {
    "name": "ipython",
    "version": 3
   },
   "file_extension": ".py",
   "mimetype": "text/x-python",
   "name": "python",
   "nbconvert_exporter": "python",
   "pygments_lexer": "ipython3",
   "version": "3.7.6"
  }
 },
 "nbformat": 4,
 "nbformat_minor": 4
}
